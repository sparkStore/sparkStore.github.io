{
 "cells": [
  {
   "cell_type": "code",
   "execution_count": null,
   "metadata": {
    "scrolled": true
   },
   "outputs": [],
   "source": [
    "#071703124 乔禹然\n",
    "#CHAP 02 PYTHON基础"
   ]
  },
  {
   "cell_type": "markdown",
   "metadata": {
    "scrolled": true
   },
   "source": [
    "# 2.1PYTHON基础\n",
    "#输入输出到文件（txt文档）\n",
    "print(\"TEST\")"
   ]
  },
  {
   "cell_type": "code",
   "execution_count": 1,
   "metadata": {
    "scrolled": false
   },
   "outputs": [],
   "source": [
    "#a=100\n",
    "#b=0\n",
    "#c=a+b\n",
    "#print(a)\n",
    "#print(a,b,c)\n",
    "#print(a,\"\\n\",b,c)"
   ]
  },
  {
   "cell_type": "code",
   "execution_count": 2,
   "metadata": {
    "scrolled": true
   },
   "outputs": [],
   "source": [
    "#print(chr(99))"
   ]
  },
  {
   "cell_type": "code",
   "execution_count": 6,
   "metadata": {},
   "outputs": [],
   "source": [
    "#hello = 'hello, runoob\\n'\n",
    "#hellos =repr(hello)\n",
    "#print(hellos)\n",
    "#print(hello)"
   ]
  },
  {
   "cell_type": "code",
   "execution_count": 5,
   "metadata": {},
   "outputs": [
    {
     "data": {
      "text/plain": [
       "\"(225, 495, ('Google', 'Runoob'))\""
      ]
     },
     "execution_count": 5,
     "metadata": {},
     "output_type": "execute_result"
    }
   ],
   "source": [
    "x=225\n",
    "y=495\n",
    "repr((x, y, ('Google', 'Runoob')))"
   ]
  },
  {
   "cell_type": "code",
   "execution_count": 8,
   "metadata": {
    "scrolled": true
   },
   "outputs": [],
   "source": [
    "#输出到文件\n",
    "fp=open(r'D:\\myPython\\out.txt','a') #a+表示追加，a表示普通读\n",
    "print(\"生存或死亡！\",file=fp)\n",
    "fp.close()#要关闭"
   ]
  },
  {
   "cell_type": "code",
   "execution_count": 12,
   "metadata": {
    "scrolled": true
   },
   "outputs": [],
   "source": [
    "#往文件输入内容是增加时间戳\n",
    "#首先要导入日期模块\n",
    "import datetime\n",
    "fp=open(r'D:\\myPython\\out.txt','a')\n",
    "print(\"生存或死亡！\"+datetime.datetime.now().strftime('%y-%m-%d-%H:%M:%S'),file=fp)\n",
    "fp.close()"
   ]
  },
  {
   "cell_type": "code",
   "execution_count": 7,
   "metadata": {},
   "outputs": [],
   "source": [
    "#for x in range(1, 11):\n",
    "#    print(repr(x).rjust(2),repr(x*x).rjust(3),end='')#end 表示不换行\n",
    "#    print(repr(x*x*x).rjust(4))"
   ]
  },
  {
   "cell_type": "code",
   "execution_count": 8,
   "metadata": {},
   "outputs": [],
   "source": [
    "#for x in range(1, 11):\n",
    "#    print(repr(x).rjust(2),repr(x*x).rjust(3),repr(x*x*x).rjust(4))"
   ]
  },
  {
   "cell_type": "code",
   "execution_count": 30,
   "metadata": {},
   "outputs": [
    {
     "name": "stdout",
     "output_type": "stream",
     "text": [
      "站点列表 Google, hub 和 Taobao。\n"
     ]
    }
   ],
   "source": [
    "print('站点列表 {0}, {1} 和 {other}。'.format('Google', 'hub',other='Taobao'))\n",
    "#str.format的应用"
   ]
  },
  {
   "cell_type": "code",
   "execution_count": 32,
   "metadata": {},
   "outputs": [
    {
     "name": "stdout",
     "output_type": "stream",
     "text": [
      "常量 PI 的值近似为 3.142。\n",
      "常量 PI 的值近似为 3.141592653589793。\n"
     ]
    }
   ],
   "source": [
    "import math\n",
    "print('常量 PI 的值近似为 {0:.3f}。'.format(math.pi))"
   ]
  },
  {
   "cell_type": "code",
   "execution_count": null,
   "metadata": {},
   "outputs": [],
   "source": [
    "table = {'Google': 1, 'Runoob': 2, 'Taobao': 3}\n",
    "print('Runoob: {Runoob:d}; Google: {Google:d}; Taobao: {Taobao:d}'.format(**table))"
   ]
  },
  {
   "cell_type": "code",
   "execution_count": 38,
   "metadata": {},
   "outputs": [
    {
     "ename": "IndexError",
     "evalue": "tuple index out of range",
     "output_type": "error",
     "traceback": [
      "\u001b[1;31m---------------------------------------------------------------------------\u001b[0m",
      "\u001b[1;31mIndexError\u001b[0m                                Traceback (most recent call last)",
      "\u001b[1;32m<ipython-input-38-2321ff1a24cb>\u001b[0m in \u001b[0;36m<module>\u001b[1;34m\u001b[0m\n\u001b[0;32m      1\u001b[0m \u001b[0mtable\u001b[0m \u001b[1;33m=\u001b[0m \u001b[1;33m{\u001b[0m\u001b[1;34m'Google'\u001b[0m\u001b[1;33m:\u001b[0m \u001b[1;36m1\u001b[0m\u001b[1;33m,\u001b[0m \u001b[1;34m'Runoob'\u001b[0m\u001b[1;33m:\u001b[0m \u001b[1;36m2\u001b[0m\u001b[1;33m,\u001b[0m \u001b[1;34m'Taobao'\u001b[0m\u001b[1;33m:\u001b[0m \u001b[1;36m3\u001b[0m\u001b[1;33m}\u001b[0m\u001b[1;33m\u001b[0m\u001b[1;33m\u001b[0m\u001b[0m\n\u001b[1;32m----> 2\u001b[1;33m \u001b[0mprint\u001b[0m\u001b[1;33m(\u001b[0m\u001b[1;34m'Runoob: {0}; Google: {1}; Taobao: {2}'\u001b[0m\u001b[1;33m.\u001b[0m\u001b[0mformat\u001b[0m\u001b[1;33m(\u001b[0m\u001b[0mtable\u001b[0m\u001b[1;33m)\u001b[0m\u001b[1;33m)\u001b[0m\u001b[1;33m\u001b[0m\u001b[1;33m\u001b[0m\u001b[0m\n\u001b[0m",
      "\u001b[1;31mIndexError\u001b[0m: tuple index out of range"
     ]
    }
   ],
   "source": [
    ">>> table = {'Google': 1, 'Runoob': 2, 'Taobao': 3}\n",
    ">>> print('Runoob: {0}; Google: {1}; Taobao: {2}'.format(table))"
   ]
  },
  {
   "cell_type": "markdown",
   "metadata": {},
   "source": [
    "# 2.2 使用input()函数输入"
   ]
  },
  {
   "cell_type": "code",
   "execution_count": 12,
   "metadata": {
    "scrolled": true
   },
   "outputs": [],
   "source": [
    "#num=input(\"请输入数字：\")\n",
    "#print(\"你刚才输入的数字是：\",num)"
   ]
  },
  {
   "cell_type": "code",
   "execution_count": 39,
   "metadata": {
    "scrolled": true
   },
   "outputs": [
    {
     "name": "stdout",
     "output_type": "stream",
     "text": [
      "请输入提示文字：erfef\n"
     ]
    }
   ],
   "source": [
    "#mynotice=input(\"请输入提示文字：\")"
   ]
  },
  {
   "cell_type": "code",
   "execution_count": 18,
   "metadata": {
    "scrolled": true
   },
   "outputs": [],
   "source": [
    "#mychar=input(\"请输入字母或数字：\")\n",
    "#print(mychar+\"的ASCII码为：\",ord(mychar))"
   ]
  },
  {
   "cell_type": "code",
   "execution_count": null,
   "metadata": {
    "scrolled": true
   },
   "outputs": [],
   "source": [
    "#eg1：根据入学年份得到入学时长\n",
    "import datetime\n",
    "nowyear=datetime.datetime.now().year\n",
    "rxyear=input(\"请输入年份\")\n",
    "rxsc=nowyear-int(rxyear)\n",
    "print(\"你的入学时长是\"+str(rxsc)+\"年\")#如何计算月数天数"
   ]
  },
  {
   "cell_type": "code",
   "execution_count": 15,
   "metadata": {
    "scrolled": true
   },
   "outputs": [],
   "source": [
    "#2.3注释\n",
    "#单行注释#\n",
    "#'''\n",
    "#多行注释\n",
    "\n",
    "#'''无效"
   ]
  },
  {
   "cell_type": "markdown",
   "metadata": {},
   "source": [
    "# 2.3代码缩进"
   ]
  },
  {
   "cell_type": "code",
   "execution_count": null,
   "metadata": {
    "scrolled": true
   },
   "outputs": [],
   "source": [
    "#TAB键\n",
    "h=float(input(\"身高：\"))\n",
    "w=float(input(\"体重：\"))\n",
    "bmi=w/(h*h)\n",
    "#根据bmi指数给用户提示\n",
    "if bmi<18.5:\n",
    "    print(\"太瘦了\")\n",
    "if bmi>=18.5 and bmi<24.9:\n",
    "    print(\"标准身材！\")\n",
    "if bmi>=24.9 and bmi<29.9:\n",
    "    print(\"偏重！\")\n",
    "if bmi>=29.9:\n",
    "    print(\"肥胖症！\")\n",
    "if bmi>=50:\n",
    "    print(\"很严重！\")\n",
    "    print('bad')"
   ]
  },
  {
   "cell_type": "markdown",
   "metadata": {
    "scrolled": true
   },
   "source": [
    "# 2.4 规范\n",
    "#(1)每个import语句只导入一个模块，尽量避免一次导入多个模块\n",
    "import pandas\n",
    "import numpy\n",
    "#(2)不要在行尾添加\" ; \"\n",
    "#(3)建议每行不超过80字符，若超过建议使用()将多行的内容隐式地连接起来，而不推荐使用反斜杠\" \\ \"\n",
    "#(4)使用必要空行.....\n"
   ]
  },
  {
   "cell_type": "markdown",
   "metadata": {
    "scrolled": true
   },
   "source": [
    "# 2.5 变量与基本数据类型"
   ]
  },
  {
   "cell_type": "code",
   "execution_count": 22,
   "metadata": {
    "scrolled": true
   },
   "outputs": [],
   "source": [
    "#保留字 是区分大小写\n",
    "#TRUE=1\n",
    "#print(TRUE)"
   ]
  },
  {
   "cell_type": "code",
   "execution_count": 21,
   "metadata": {
    "scrolled": true
   },
   "outputs": [],
   "source": [
    "#salary=10000+71.1+20.3\n",
    "#print(salary)\n",
    "#print(chr(90))"
   ]
  },
  {
   "cell_type": "code",
   "execution_count": 28,
   "metadata": {},
   "outputs": [],
   "source": [
    "#s = 'spark'\n",
    "#print(s[2:5])\n",
    "#print(s + \"store\")"
   ]
  },
  {
   "cell_type": "markdown",
   "metadata": {},
   "source": [
    "# 2.6运算符\n",
    "#2.6.1 算术运算符 + - * / //  **"
   ]
  },
  {
   "cell_type": "code",
   "execution_count": 30,
   "metadata": {},
   "outputs": [],
   "source": [
    "#print(3//2)#    \"//\"取整\n",
    "#print(3**2)#    \"**\"平方\n",
    "#a=2\n",
    "#b=3\n",
    "#print(\"\\n\",\"*\"*(a+b))"
   ]
  },
  {
   "cell_type": "code",
   "execution_count": null,
   "metadata": {},
   "outputs": [],
   "source": [
    "#2.6.2赋值运算\n",
    "a=3\n",
    "b=2\n",
    "c=7\n",
    "a+=b\n",
    "print(a)"
   ]
  },
  {
   "cell_type": "code",
   "execution_count": 34,
   "metadata": {},
   "outputs": [],
   "source": [
    "#print(not(1==2))"
   ]
  },
  {
   "cell_type": "code",
   "execution_count": 37,
   "metadata": {},
   "outputs": [],
   "source": [
    "# ~用于对于数值的二进制位取反  <<左移运算符，用于把二进制位向左移动数位，>>反之\n",
    "#a=10\n",
    "#print(~a)\n",
    "#print(~-a)  #~a=-a-1\n",
    "#print(a<<2)"
   ]
  },
  {
   "cell_type": "markdown",
   "metadata": {},
   "source": [
    "# 2.7PYTHON内置函数"
   ]
  },
  {
   "cell_type": "code",
   "execution_count": 1,
   "metadata": {},
   "outputs": [
    {
     "name": "stdout",
     "output_type": "stream",
     "text": [
      "111\n",
      "(3, 1)\n",
      "4\n",
      "-1\n",
      "1\n",
      "9\n",
      "3.14\n"
     ]
    }
   ],
   "source": [
    "#数学运算\n",
    "print(abs(-111))\n",
    "print(divmod(10,3))\n",
    "print(max(\"1234\"))\n",
    "print(max(-1,0,key=abs))#传入了求绝对值函数\n",
    "#pow 返回幂运算或其与指定函数的模值\n",
    "print(pow(3,2,4))\n",
    "print(pow(3,2))\n",
    "#round\n",
    "print(round(3.14159,2))\n"
   ]
  },
  {
   "cell_type": "code",
   "execution_count": 33,
   "metadata": {},
   "outputs": [
    {
     "name": "stdout",
     "output_type": "stream",
     "text": [
      "True\n",
      "100\n",
      "100.0\n",
      "(123.12+2j)\n",
      "<class 'int'>\n",
      "97\n",
      "a\n",
      "('大', '数', '据')\n",
      "['大', '数', '据']\n"
     ]
    }
   ],
   "source": [
    "#2.7.2 类型转换\n",
    "print(bool(100))\n",
    "print(int(100.78))\n",
    "print(float(\"100\"))\n",
    "print(complex(123.12,2))\n",
    "print(type(int(\"123\")))\n",
    "#print(bytearray(\"大数据\"，'utf-8'))    ???\n",
    "print(ord(\"a\"))\n",
    "print(chr(97))\n",
    "#bin 整数到二进制数 oct 整数到八进制数 hex 将整数到十六进制\n",
    "print(tuple(\"大数据\"))\n",
    "print(list(\"大数据\"))\n"
   ]
  },
  {
   "cell_type": "code",
   "execution_count": null,
   "metadata": {},
   "outputs": [],
   "source": [
    "#2.7.3 序列操作\n",
    "print(all([1,0]))#只要有一个数逻辑值不是true就false\n",
    "print(any([1,0]))#只要有一个数是true就true"
   ]
  },
  {
   "cell_type": "code",
   "execution_count": null,
   "metadata": {},
   "outputs": [],
   "source": [
    "a=list(range(1,20))\n",
    "a\n",
    "def if_odd(x):\n",
    "    return x%2==1\n",
    "list(filter(if_odd,a))"
   ]
  },
  {
   "cell_type": "code",
   "execution_count": null,
   "metadata": {},
   "outputs": [],
   "source": [
    "#map\n",
    "a=map(ord,\"abc\")\n",
    "print(a)\n",
    "list(a)"
   ]
  },
  {
   "cell_type": "code",
   "execution_count": null,
   "metadata": {},
   "outputs": [],
   "source": [
    "a=reversed(\"abcd\")\n",
    "a\n",
    "list(a)"
   ]
  },
  {
   "cell_type": "code",
   "execution_count": 31,
   "metadata": {},
   "outputs": [
    {
     "data": {
      "text/plain": [
       "[(1, 4), (2, 5), (3, 6)]"
      ]
     },
     "execution_count": 31,
     "metadata": {},
     "output_type": "execute_result"
    }
   ],
   "source": [
    "#zip\n",
    "a=[1,2,3]\n",
    "b=[4,5,6]\n",
    "c=zip(a,b)\n",
    "c\n",
    "list(c)"
   ]
  },
  {
   "cell_type": "code",
   "execution_count": null,
   "metadata": {},
   "outputs": [],
   "source": [
    "help(list)"
   ]
  },
  {
   "cell_type": "code",
   "execution_count": null,
   "metadata": {},
   "outputs": [],
   "source": [
    "#返回对象或者当前作用域内的属性列表\n",
    "import math\n",
    "math\n",
    "dir(math)"
   ]
  },
  {
   "cell_type": "code",
   "execution_count": 32,
   "metadata": {},
   "outputs": [
    {
     "data": {
      "text/plain": [
       "2582277290768"
      ]
     },
     "execution_count": 32,
     "metadata": {},
     "output_type": "execute_result"
    }
   ],
   "source": [
    "#id 返回对象的唯一标识\n",
    "a=\"大信管\"\n",
    "id(a)"
   ]
  },
  {
   "cell_type": "code",
   "execution_count": 35,
   "metadata": {},
   "outputs": [],
   "source": [
    "#type 查看对象类型\n",
    "#文件操作\n",
    "a=open(\"out.txt\",'rt')\n",
    "a.read()\n",
    "a.close()"
   ]
  },
  {
   "cell_type": "markdown",
   "metadata": {},
   "source": [
    "# 2.8 列表\n",
    "#2.8.1序列\n",
    "#索引基础\n",
    "myidx=[\"信息管理与信息系统\",\"工业工程\",\"电子商务\"] #列表用中括号，期末会考\n",
    "print(myidx[1])\n",
    "print(myidx[-2])"
   ]
  },
  {
   "cell_type": "code",
   "execution_count": 9,
   "metadata": {},
   "outputs": [
    {
     "name": "stdout",
     "output_type": "stream",
     "text": [
      "['饮料', '调味品', '点心', '日用品', '谷类/麦片', '肉/家禽', '特制品', '海鲜']\n",
      "['调味品', '点心', '日用品']\n",
      "['饮料', '谷类/麦片']\n",
      "['饮料', '点心', '谷类/麦片', '特制品']\n",
      "['饮料', '谷类/麦片']\n",
      "['饮料', '调味品', '点心', '日用品', '谷类/麦片', '肉/家禽', '特制品', '海鲜']\n"
     ]
    }
   ],
   "source": [
    "#切片 \n",
    "#名称=[start:end:step]  不包括end本身\n",
    "myslice=[\"饮料\",\"调味品\",\"点心\",\"日用品\",\"谷类/麦片\",\"肉/家禽\",\"特制品\",\"海鲜\"]\n",
    "print(myslice)\n",
    "print(myslice[1:4])\n",
    "print(myslice[0::4])\n",
    "print(myslice[0::2])#o到最后间隔为2\n",
    "print(myslice[0:7:4])#不包括end本身\n",
    "print(myslice[::])\n"
   ]
  },
  {
   "cell_type": "code",
   "execution_count": 11,
   "metadata": {},
   "outputs": [
    {
     "name": "stdout",
     "output_type": "stream",
     "text": [
      "['饮料', '调味品', '点心', '日用品', '谷类/麦片', '我', '们', '才', '是', '相', '同', '的', '字', '符', '串', '！']\n",
      "['饮料', '调味品', '点心', '日用品', '肉/家禽', '特制品', '海鲜']\n",
      "['饮料', '调味品', '点心', '日用品', '谷类/麦片', 1, 2, 3]\n",
      "['我', '们', '才', '是', '相', '同', '的', '字', '符', '串', '！']\n"
     ]
    }
   ],
   "source": [
    "#序列相加 序列的运算，必须是相同类型的序列\n",
    "myslice1=[\"饮料\",\"调味品\",\"点心\",\"日用品\",\"谷类/麦片\"]\n",
    "myslice2=[\"肉/家禽\",\"特制品\",\"海鲜\"]\n",
    "myslice3=[1,2,3]\n",
    "myslice4=list(\"我们才是相同的字符串！\")\n",
    "print(myslice1+myslice4)\n",
    "print(myslice1[0:4]+myslice2[:])\n",
    "print(myslice1+myslice3)\n",
    "print(myslice4)"
   ]
  },
  {
   "cell_type": "code",
   "execution_count": 13,
   "metadata": {},
   "outputs": [
    {
     "name": "stdout",
     "output_type": "stream",
     "text": [
      "['饮料', '调味品', '点心', '日用品', '谷类/麦片', '饮料', '调味品', '点心', '日用品', '谷类/麦片', '饮料', '调味品', '点心', '日用品', '谷类/麦片']\n",
      "[None, None, None, None, None]\n"
     ]
    }
   ],
   "source": [
    "#乘法\n",
    "myslice1=[\"饮料\",\"调味品\",\"点心\",\"日用品\",\"谷类/麦片\"]\n",
    "myslice2=[\"肉/家禽\",\"特制品\",\"海鲜\"]\n",
    "myslice3=[1,2,3]\n",
    "myslice4=[None]*5 \n",
    "print(myslice1*3)\n",
    "print(myslice4)"
   ]
  },
  {
   "cell_type": "code",
   "execution_count": 26,
   "metadata": {},
   "outputs": [
    {
     "name": "stdout",
     "output_type": "stream",
     "text": [
      "True\n",
      "5\n",
      "4.285714285714286\n",
      "[1, 2, 3, 4, 5, 7, 8]\n"
     ]
    }
   ],
   "source": [
    "#序列操作\n",
    "myseq=[\"饮料\",\"调味品\",\"点心\",\"日用品\",\"谷类/麦片\"]\n",
    "print(\"调味品\"in myseq)\n",
    "print(len(myseq))\n",
    "myseq2=[1,2,3,4,5,8,7]\n",
    "print(sum(myseq2)/len(myseq2))\n",
    "print(sorted(myseq2))#如何降序\n"
   ]
  },
  {
   "cell_type": "code",
   "execution_count": 27,
   "metadata": {},
   "outputs": [
    {
     "name": "stdout",
     "output_type": "stream",
     "text": [
      "[1, 2, 3, ['abc', 'cde']]\n"
     ]
    }
   ],
   "source": [
    "#2.8.2列表\n",
    "myls1=[1,2,3,[\"abc\",\"cde\"]]\n",
    "print(myls1)"
   ]
  },
  {
   "cell_type": "code",
   "execution_count": 29,
   "metadata": {},
   "outputs": [
    {
     "name": "stdout",
     "output_type": "stream",
     "text": [
      "[1, 2, 3, 4, 5, 6, 7, 8, 9, 10]\n"
     ]
    }
   ],
   "source": [
    "myls3=list(range(1,11,1))\n",
    "print(myls3)\n"
   ]
  },
  {
   "cell_type": "code",
   "execution_count": 30,
   "metadata": {},
   "outputs": [
    {
     "name": "stdout",
     "output_type": "stream",
     "text": [
      "[2, 4, 6, 8, 10]\n"
     ]
    }
   ],
   "source": [
    "myls4=list(range(2,11,2))\n",
    "print(myls4)"
   ]
  },
  {
   "cell_type": "code",
   "execution_count": 3,
   "metadata": {},
   "outputs": [
    {
     "name": "stdout",
     "output_type": "stream",
     "text": [
      "['1', '2', '我是谁']\n",
      "['1', 'hhh', '2', '我是谁']\n",
      "['1', 'hhh', '2', '我是谁', ['3', '4']]\n"
     ]
    }
   ],
   "source": [
    "#列表元素增删改\n",
    "myls5=[\"1\",\"2\"]\n",
    "myls5.append(\"我是谁\")\n",
    "print(myls5)\n",
    "myls5.insert(1,\"hhh\")  #在中间插入其他元素\n",
    "print(myls5)\n",
    "myls6=[\"3\",\"4\"]\n",
    "myls5.append(myls6)\n",
    "print(myls5)"
   ]
  },
  {
   "cell_type": "code",
   "execution_count": 8,
   "metadata": {},
   "outputs": [
    {
     "name": "stdout",
     "output_type": "stream",
     "text": [
      "['1', 'hhh', '2', '我是谁', ['3', '4'], 'yayaya', 'yayaya', 'yayaya', 'yayaya', 'yayaya']\n",
      "1\n",
      "5\n"
     ]
    }
   ],
   "source": [
    " #列表计算\n",
    "myls5.append(\"yayaya\")\n",
    "print(myls5)\n",
    "print(myls5.count(\"1\"))\n",
    "#首次出现的下标\n",
    "print(myls5.index(\"yayaya\"))\n"
   ]
  },
  {
   "cell_type": "code",
   "execution_count": 3,
   "metadata": {},
   "outputs": [
    {
     "name": "stdout",
     "output_type": "stream",
     "text": [
      "360\n",
      "[10, 11, 23, 25, 30, 33, 52, 77, 99]\n",
      "[99, 77, 52, 33, 30, 25, 23, 11, 10]\n"
     ]
    }
   ],
   "source": [
    "#对数值类进行统计\n",
    "myls7=[10,11,23,25,99,77,52,33,30]\n",
    "mysum=sum(myls7)\n",
    "print(mysum)\n",
    "\n",
    "myls7.sort()\n",
    "print(myls7)\n",
    "\n",
    "myls7.sort(reverse=True)\n",
    "print(myls7)\n"
   ]
  },
  {
   "cell_type": "code",
   "execution_count": 13,
   "metadata": {},
   "outputs": [
    {
     "name": "stdout",
     "output_type": "stream",
     "text": [
      "['apple', 'orange', 'Grape']\n",
      "['apple', 'Grape', 'orange']\n"
     ]
    }
   ],
   "source": [
    "myls8=['apple','orange','Grape']\n",
    "print(myls8)\n",
    "myls8.sort(key=str.lower)\n",
    "print(myls8)"
   ]
  },
  {
   "cell_type": "code",
   "execution_count": 17,
   "metadata": {},
   "outputs": [
    {
     "name": "stdout",
     "output_type": "stream",
     "text": [
      "生成的随机数是： [15, 4, 11, 1, 7, 9, 4, 15, 1, 10]\n"
     ]
    }
   ],
   "source": [
    "#列表推导式\n",
    "#生成一个随机数\n",
    "import random\n",
    "myrand1=[random.randint(1,20)for i in range(10)]\n",
    "print(\"生成的随机数是：\",myrand1)\n"
   ]
  },
  {
   "cell_type": "code",
   "execution_count": 21,
   "metadata": {},
   "outputs": [
    {
     "name": "stdout",
     "output_type": "stream",
     "text": [
      "[55, 60, 105, 165, 150]\n",
      "[33, 30]\n"
     ]
    }
   ],
   "source": [
    "#在列表中利用表达式计算,条件筛选\n",
    "myls10=[11,12,21,33,30]\n",
    "sale=[(x*5)for x in myls10]\n",
    "sale1=[x for x in myls10 if x>=30]\n",
    "print(sale)\n",
    "print(sale1)\n"
   ]
  },
  {
   "cell_type": "markdown",
   "metadata": {},
   "source": [
    "# 2.9元组\n"
   ]
  },
  {
   "cell_type": "code",
   "execution_count": 2,
   "metadata": {},
   "outputs": [
    {
     "name": "stdout",
     "output_type": "stream",
     "text": [
      "(1, 2)\n"
     ]
    }
   ],
   "source": [
    "#1，元组的概念\n",
    "#以一对圆括号包围，逗号分隔的不可变序列是为元组(tuple)\n",
    "#基本形式(obj1,obj2,obj3,[...])\n",
    "#一个简单的元组\n",
    "t=(1,2)\n",
    "print(t)"
   ]
  },
  {
   "cell_type": "code",
   "execution_count": 8,
   "metadata": {},
   "outputs": [
    {
     "name": "stdout",
     "output_type": "stream",
     "text": [
      "('a', 'b')\n",
      "(1, 2, 3, ['a', 'b'])\n",
      "1\n",
      "(1,)\n",
      "[1]\n"
     ]
    }
   ],
   "source": [
    "#2,创建方式\n",
    "#上面是第一种\n",
    "#2，\n",
    "l=['a','b']\n",
    "t=tuple(l)\n",
    "print(t)\n",
    "#3，\n",
    "t=1,2,3,['a','b']\n",
    "print(t)\n",
    "#4,当元组中只有一个元素的时候，需要以','来结尾\n",
    "t=(1)\n",
    "print(t)\n",
    "t=(1,)\n",
    "print(t)\n",
    "t=[1]\n",
    "print(t)"
   ]
  },
  {
   "cell_type": "code",
   "execution_count": 10,
   "metadata": {},
   "outputs": [
    {
     "name": "stdout",
     "output_type": "stream",
     "text": [
      "(1, 2, 3, 4)\n",
      "1\n",
      "(1, 2, 3, 'a', 'b', 'c')\n",
      "b\n"
     ]
    }
   ],
   "source": [
    "#3,元组的增删改查\n",
    "#增\n",
    "t=(1,2)\n",
    "t=t+(3,4)#但不是同一个t\n",
    "print(t)\n",
    "#删,改不行，元组不可变\n",
    "#查\n",
    "t=(1,2,3,'a','b','c')\n",
    "print(t[0])\n",
    "print(t[0:])\n",
    "print(t[-2])\n",
    "\n"
   ]
  },
  {
   "cell_type": "code",
   "execution_count": 13,
   "metadata": {},
   "outputs": [
    {
     "name": "stdout",
     "output_type": "stream",
     "text": [
      "2\n",
      "2\n"
     ]
    }
   ],
   "source": [
    "#4,元组内置函数及专有方法\n",
    "t=('b','d','e')\n",
    "max(t)\n",
    "#index()返回元组中某个值第一次出现的位置，若从未出现，则报错\n",
    "#count()返回某个值在元组中出现的次数\n",
    "t=(1,1,10,2)\n",
    "print(t.index(10))\n",
    "print(t.count(1))\n",
    "#元组是不可变的，而列表是可变的"
   ]
  },
  {
   "cell_type": "markdown",
   "metadata": {},
   "source": [
    "# 2.10字符串\n",
    "print(\"最终结果是\"+str(1+2))\n",
    "a=\"字符串常用操作\"\n",
    "b=\"L E N\"\n",
    "length=len(a.encode())#默认长度3倍，如果encode()里带参数，则是2倍\n",
    "print(length)"
   ]
  },
  {
   "cell_type": "code",
   "execution_count": 2,
   "metadata": {},
   "outputs": [
    {
     "ename": "SyntaxError",
     "evalue": "invalid character in identifier (<ipython-input-2-0bc3aef522f0>, line 3)",
     "output_type": "error",
     "traceback": [
      "\u001b[1;36m  File \u001b[1;32m\"<ipython-input-2-0bc3aef522f0>\"\u001b[1;36m, line \u001b[1;32m3\u001b[0m\n\u001b[1;33m    try：\u001b[0m\n\u001b[1;37m       ^\u001b[0m\n\u001b[1;31mSyntaxError\u001b[0m\u001b[1;31m:\u001b[0m invalid character in identifier\n"
     ]
    }
   ],
   "source": [
    "#用异常处理来判断切片是否存在\n",
    "a=\"字符串常用操作\"\n",
    "try：\n",
    "    suba=a[-20]\n",
    "except IndexError:\n",
    "    print(\"指定的索引不存在！\")\n",
    "    #？？"
   ]
  },
  {
   "cell_type": "code",
   "execution_count": 10,
   "metadata": {},
   "outputs": [
    {
     "name": "stdout",
     "output_type": "stream",
     "text": [
      "['1', '2', '3,4,5']\n"
     ]
    }
   ],
   "source": [
    "#切割\n",
    "a=\"1,2,3,4,5\"\n",
    "b=a.split(',',2)#没用，的话就算一个\n",
    "print(b)\n"
   ]
  },
  {
   "cell_type": "code",
   "execution_count": 15,
   "metadata": {},
   "outputs": [
    {
     "name": "stdout",
     "output_type": "stream",
     "text": [
      "@\n"
     ]
    }
   ],
   "source": [
    "#count()有几个\n",
    "#find()找到的位置默认是从0开始的，找不到的话会返回-1\n",
    "#index()方法#找到的位置默认是从0开始的，找不到的话会报错\n",
    "a=input()\n",
    "b=a.find(\"@\")\n",
    "if b>0:\n",
    "    print(\"你输入的邮箱地址是正确的！\")"
   ]
  },
  {
   "cell_type": "code",
   "execution_count": 16,
   "metadata": {},
   "outputs": [
    {
     "name": "stdout",
     "output_type": "stream",
     "text": [
      "2\n",
      "6\n"
     ]
    }
   ],
   "source": [
    "d=\"123454321\"\n",
    "h=d.index(\"3\")\n",
    "e=d.rindex(\"3\")#从右边开始查找\n",
    "print(h)\n",
    "print(e)"
   ]
  },
  {
   "cell_type": "code",
   "execution_count": 20,
   "metadata": {},
   "outputs": [
    {
     "name": "stdout",
     "output_type": "stream",
     "text": [
      "True\n"
     ]
    }
   ],
   "source": [
    "#startswith()方法 判断是否以某个字符串或字符开头的  endswith()\n",
    "a=\"啊,哈,呀,嘿\"\n",
    "print(a.startswith(\"啊\"))"
   ]
  },
  {
   "cell_type": "code",
   "execution_count": 21,
   "metadata": {},
   "outputs": [
    {
     "name": "stdout",
     "output_type": "stream",
     "text": [
      "ABCD\n"
     ]
    }
   ],
   "source": [
    "#lower()   upper()\n",
    "a=\"AbCd\"\n",
    "print(a.upper())"
   ]
  },
  {
   "cell_type": "code",
   "execution_count": 1,
   "metadata": {},
   "outputs": [
    {
     "name": "stdout",
     "output_type": "stream",
     "text": [
      "www.fzu.edu.cn. \n"
     ]
    }
   ],
   "source": [
    "#strip() 去掉字符串左右两侧的空格和特定字符 lstrip()去除掉左侧的空格或特定字符 rstrip()去除右侧\n",
    "a=\"@@@www.fzu.edu.cn. ~#\"\n",
    "print(a.strip(((\"@\")+\"#\")+\"~\")) #一次去除多个符号\n"
   ]
  },
  {
   "cell_type": "code",
   "execution_count": 2,
   "metadata": {},
   "outputs": [],
   "source": [
    "#格式化字符串  %  format()\n"
   ]
  },
  {
   "cell_type": "code",
   "execution_count": 3,
   "metadata": {},
   "outputs": [],
   "source": [
    "#正则表达式\n",
    "#行定位 ^表示行的开始  $表示行的结束\n",
    "\n",
    "\n",
    "#元字符\n",
    "#\\b 匹配单词的开始或结束，单词的分解符通常是空格、标点符号或换行\n",
    "#\\w (匹配字母、数字、下划线或汉字)\n",
    "#\\bjgxy\\w*\\b   jgxy.fzu     jgxy.fzu.edu.cn\n",
    "#\\W 匹配除字母、数字、下划线或汉字以外的字母\n",
    "#\\s 匹配单个的空白符，包括tab和换行符\n",
    "#\\S 匹配除单个的空白符，包括tab和换行符以外的所有字符\n",
    "#\\d 匹配数字\n",
    "#\\ . 匹配除换行符以外的任意字符\n",
    "\n",
    "\n",
    "\n",
    "#限定符   要匹配特定数量的数字，比如邮编、手机号、QQ号等\n",
    "#^\\d{11}$\n",
    "# ? 匹配前面的字符零次或者一次  jg?xy jgxy jxy\n",
    "# + 匹配前面的字符一次或多次    jg+xy jgxy,jgwxy  jgywxy  jg....xy\n",
    "# * 匹配前面的字符零次或多次    jg*xy jxy  ...\n",
    "# {n} 匹配前面的字符n次         jg{2}xy  jggxy (只有2个g)\n",
    "# {n,} 匹配前面的字符至少n次    jg{2,}xy  jggxy  (至少2个g)与上式有差别\n",
    "# {n,m} 匹配前面的字符最少n次，最多m次  jg{2,4}xy  jggxy jgggxy jggggxy\n",
    "\n",
    "\n",
    "\n",
    "#字符类  元音字母 a e i o u [aeiou]   [.?!]  [0-9]与\\d等效   [a-z0-9A-Z]与\\w等效\n",
    "#若要在任意一个字符中进行汉字匹配 [\\u4e00-\\u9fa5]  连续汉字匹配[\\u4e00-\\u9fa5]+\n",
    "\n",
    "\n",
    "\n",
    "#排除字符 [^a-zA-Z]匹配不是字母的字符\n",
    "#选择字符 (^d{15})|(^\\d{18}$)|(^\\d{17})(\\d|X|x)$身份证匹配\n",
    "#转义字符 \n",
    "#分组 \n"
   ]
  },
  {
   "cell_type": "code",
   "execution_count": 11,
   "metadata": {},
   "outputs": [
    {
     "name": "stdout",
     "output_type": "stream",
     "text": [
      "<re.Match object; span=(0, 8), match='福州大学JGXY'>\n",
      "0\n",
      "8\n",
      "(0, 8)\n",
      "福州大学JGXY.fzu.edu.cn经济与管理学院\n",
      "福州大学JGXY\n"
     ]
    }
   ],
   "source": [
    "#re模块与正则表达式\n",
    "import re\n",
    "#匹配字符串 match()  search() findall()\n",
    "pattern=r'福州.\\w+'\n",
    "mystr=\"福州大学JGXY.fzu.edu.cn经济与管理学院\"\n",
    "match=re.match(pattern,mystr,re.I)#匹配字符串，不区分大小写\n",
    "print(match)\n",
    "print(match.start())\n",
    "print(match.end())\n",
    "print(match.span())\n",
    "print(match.string)\n",
    "print(match.group())\n",
    "\n"
   ]
  },
  {
   "cell_type": "code",
   "execution_count": 12,
   "metadata": {},
   "outputs": [
    {
     "name": "stdout",
     "output_type": "stream",
     "text": [
      "<re.Match object; span=(0, 8), match='福州大学JGXY'>\n",
      "0\n",
      "8\n",
      "(0, 8)\n",
      "福州大学JGXY.fzu.edu.cn经济与管理学院\n",
      "福州大学JGXY\n"
     ]
    }
   ],
   "source": [
    "pattern=r'福州.\\w+'\n",
    "mystr=\"福州大学JGXY.fzu.edu.cn经济与管理学院\"\n",
    "match=re.search(pattern,mystr,re.I)#匹配任意位置字符串，不区分大小写\n",
    "print(match)\n",
    "print(match.start())\n",
    "print(match.end())\n",
    "print(match.span())\n",
    "print(match.string)\n",
    "print(match.group())\n"
   ]
  },
  {
   "cell_type": "code",
   "execution_count": 15,
   "metadata": {},
   "outputs": [
    {
     "name": "stdout",
     "output_type": "stream",
     "text": [
      "['edu.cn经济与管理学院']\n"
     ]
    }
   ],
   "source": [
    "pattern=r'edu.\\w+'#模式字符串\n",
    "mystr=\"福州大学JGXY.fzu.edu.cn经济与管理学院\"\n",
    "match=re.findall(pattern,mystr,re.I)#匹配字符串，不区分大小写\n",
    "print(match)\n",
    "   # print(match.start())\n",
    "    #print(match.end())\n",
    "    #print(match.span())\n",
    "    #print(match.string)\n",
    "    #print(match.group())\n",
    "#不懂\n"
   ]
  },
  {
   "cell_type": "code",
   "execution_count": 17,
   "metadata": {},
   "outputs": [
    {
     "name": "stdout",
     "output_type": "stream",
     "text": [
      "学号：s071*** 录取结果：已录取 联系电话：1***5678\n"
     ]
    }
   ],
   "source": [
    "#替换字符sub()\n",
    "pattern=r'1[8379]\\d{5}' #模式字符串\n",
    "mystr=\"学号：s071703126 录取结果：已录取 联系电话：18812345678\"\n",
    "pubshow=re.sub(pattern,'1***',mystr)\n",
    "print(pubshow)\n",
    "\n"
   ]
  },
  {
   "cell_type": "code",
   "execution_count": 1,
   "metadata": {},
   "outputs": [],
   "source": [
    "#经典应用\n",
    "#看不懂"
   ]
  },
  {
   "cell_type": "markdown",
   "metadata": {},
   "source": [
    "# 2.11字典\n",
    "#主要特征\n",
    "#1，通过键key来读取数据，而非index 关联数组或者散列表 hash表\n",
    "#2，可以是任意对象的无序集合\n",
    "#3，字典是可变的，并且是可以任意嵌套的\n",
    "#4，key必须是唯一\n",
    "#5，key是不可变，可以使用数字、字符串或元组，但不能使用列表"
   ]
  },
  {
   "cell_type": "code",
   "execution_count": 1,
   "metadata": {},
   "outputs": [
    {
     "name": "stdout",
     "output_type": "stream",
     "text": [
      "100\n",
      "{'啊': '1', '哈': '2', '嘿': '3'}\n"
     ]
    }
   ],
   "source": [
    "#字典的创建与删除\n",
    "mydic1={'1':100,'3':98,3:79}\n",
    "print(mydic1['1'])\n",
    "#两种创建空字典的方法\n",
    "mydic5=dict()\n",
    "mydic6={}\n",
    "\n",
    "\n",
    "stuname=['啊','哈','嘿']\n",
    "stuscore=['1','2','3']\n",
    "mydic7=dict(zip(stuname,stuscore))#zip()将多个列表或元组对应位置的元素组成为元组\n",
    "\n",
    "print(mydic7)"
   ]
  },
  {
   "cell_type": "code",
   "execution_count": 9,
   "metadata": {},
   "outputs": [
    {
     "name": "stdout",
     "output_type": "stream",
     "text": [
      "{'啊': '1', '哈': '2', '嘿': '3'}\n",
      "啊 的成绩是： 1\n",
      "哈 的成绩是： 2\n",
      "嘿 的成绩是： 3\n",
      "s\n",
      "学生s的成绩是： 没有这个学生\n"
     ]
    }
   ],
   "source": [
    "#遍历字典\n",
    "print(mydic7)\n",
    "for key,value in mydic7.items():\n",
    "    print(key,\"的成绩是：\",value)\n",
    "    #print(mydic7.get(\"嘿\"))\n",
    "    \n",
    "    \n",
    "a=input()\n",
    "print(\"学生\"+a+\"的成绩是：\",mydic7.get(a,\"没有这个学生\"))"
   ]
  },
  {
   "cell_type": "code",
   "execution_count": 12,
   "metadata": {},
   "outputs": [
    {
     "name": "stdout",
     "output_type": "stream",
     "text": [
      "{'啊': '1', '哈': '2', '嘿': '3', '苏汝正': '88'}\n",
      "{'啊': '1', '哈': '2', '嘿': '3', '苏汝正': '88'}\n",
      "{'啊': '1', '哈': '2', '嘿': '3'}\n"
     ]
    }
   ],
   "source": [
    "#字典的增删改\n",
    "print(mydic7)\n",
    "mydic7[\"苏汝正\"]='88'\n",
    "print(mydic7)\n",
    "del mydic7[\"苏汝正\"]\n",
    "print(mydic7)\n",
    "#mydic7.clear()\n",
    "#del mydic7\n"
   ]
  },
  {
   "cell_type": "code",
   "execution_count": 14,
   "metadata": {},
   "outputs": [
    {
     "name": "stdout",
     "output_type": "stream",
     "text": [
      "{1: 17, 2: 10, 3: 28, 4: 25, 5: 43}\n"
     ]
    }
   ],
   "source": [
    "#字典推导式\n",
    "import random\n",
    "mydic8={i:random.randint(10,50) for i in range(1,6)}\n",
    "print(mydic8)"
   ]
  },
  {
   "cell_type": "code",
   "execution_count": 19,
   "metadata": {},
   "outputs": [],
   "source": [
    "#mydic7.update(mydic9)"
   ]
  },
  {
   "cell_type": "markdown",
   "metadata": {},
   "source": [
    "# 2.12集合\n",
    "myset={'1','2'}\n",
    "myset.add('3')\n",
    "print(myset)\n",
    "myset.remove('2')\n",
    "print(myset)\n",
    "myset.clear()\n",
    "print(myset)"
   ]
  },
  {
   "cell_type": "code",
   "execution_count": 29,
   "metadata": {},
   "outputs": [
    {
     "name": "stdout",
     "output_type": "stream",
     "text": [
      "交运算结果 {'3'}\n",
      "并运算 {'1', '6', '3', '2', '5'}\n",
      "{'1', '6', '3', '2', '5'}\n",
      "差运算 {'5', '6'}\n"
     ]
    },
    {
     "data": {
      "text/plain": [
       "False"
      ]
     },
     "execution_count": 29,
     "metadata": {},
     "output_type": "execute_result"
    }
   ],
   "source": [
    "#集合的交、并、差运算\n",
    "mystu1={'1','2','3'}\n",
    "mystu2={'3','5','6'}\n",
    "#交运算&\n",
    "print(\"交运算结果\",mystu1&mystu2)\n",
    "#并\n",
    "print(\"并运算\",mystu1|mystu2)\n",
    "print(mystu1.union(mystu2))\n",
    "#差\n",
    "print(\"差运算\",mystu2-mystu1)\n",
    "#对称差\n",
    "#判断是否为另一个集合的子集\n",
    "mystu2.issubset(mystu1)\n"
   ]
  },
  {
   "cell_type": "code",
   "execution_count": 1,
   "metadata": {},
   "outputs": [
    {
     "name": "stdout",
     "output_type": "stream",
     "text": [
      "The Zen of Python, by Tim Peters\n",
      "\n",
      "Beautiful is better than ugly.\n",
      "Explicit is better than implicit.\n",
      "Simple is better than complex.\n",
      "Complex is better than complicated.\n",
      "Flat is better than nested.\n",
      "Sparse is better than dense.\n",
      "Readability counts.\n",
      "Special cases aren't special enough to break the rules.\n",
      "Although practicality beats purity.\n",
      "Errors should never pass silently.\n",
      "Unless explicitly silenced.\n",
      "In the face of ambiguity, refuse the temptation to guess.\n",
      "There should be one-- and preferably only one --obvious way to do it.\n",
      "Although that way may not be obvious at first unless you're Dutch.\n",
      "Now is better than never.\n",
      "Although never is often better than *right* now.\n",
      "If the implementation is hard to explain, it's a bad idea.\n",
      "If the implementation is easy to explain, it may be a good idea.\n",
      "Namespaces are one honking great idea -- let's do more of those!\n"
     ]
    }
   ],
   "source": [
    "import this"
   ]
  },
  {
   "cell_type": "code",
   "execution_count": 3,
   "metadata": {},
   "outputs": [],
   "source": [
    "#python正则表达式强化\n",
    "#主要方法：match() search() findall()"
   ]
  },
  {
   "cell_type": "code",
   "execution_count": null,
   "metadata": {},
   "outputs": [],
   "source": []
  }
 ],
 "metadata": {
  "kernelspec": {
   "display_name": "Python 3",
   "language": "python",
   "name": "python3"
  },
  "language_info": {
   "codemirror_mode": {
    "name": "ipython",
    "version": 3
   },
   "file_extension": ".py",
   "mimetype": "text/x-python",
   "name": "python",
   "nbconvert_exporter": "python",
   "pygments_lexer": "ipython3",
   "version": "3.7.1"
  },
  "toc": {
   "base_numbering": 1,
   "nav_menu": {},
   "number_sections": true,
   "sideBar": false,
   "skip_h1_title": false,
   "title_cell": "Table of Contents",
   "title_sidebar": "Contents",
   "toc_cell": false,
   "toc_position": {
    "height": "714.29px",
    "left": "1454.86px",
    "top": "54px",
    "width": "326.14px"
   },
   "toc_section_display": true,
   "toc_window_display": true
  }
 },
 "nbformat": 4,
 "nbformat_minor": 2
}
